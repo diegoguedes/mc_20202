{
  "nbformat": 4,
  "nbformat_minor": 0,
  "metadata": {
    "colab": {
      "name": "relacao_mc.ipynb",
      "provenance": [],
      "collapsed_sections": [],
      "authorship_tag": "ABX9TyMYzElBZkSXHGMNx/UsQrtD",
      "include_colab_link": true
    },
    "kernelspec": {
      "name": "python3",
      "display_name": "Python 3"
    }
  },
  "cells": [
    {
      "cell_type": "markdown",
      "metadata": {
        "id": "view-in-github",
        "colab_type": "text"
      },
      "source": [
        "<a href=\"https://colab.research.google.com/github/diegoguedes/mc_20202/blob/master/relacao.ipynb\" target=\"_parent\"><img src=\"https://colab.research.google.com/assets/colab-badge.svg\" alt=\"Open In Colab\"/></a>"
      ]
    },
    {
      "cell_type": "markdown",
      "metadata": {
        "id": "07MM8txKi7Co",
        "colab_type": "text"
      },
      "source": [
        "## **Disciplina de Matemática para Computação - Professor Diego Guedes**"
      ]
    },
    {
      "cell_type": "markdown",
      "metadata": {
        "id": "EncwKArxhJvK",
        "colab_type": "text"
      },
      "source": [
        "Sejam $A=\\{1,2,3\\}$ e $B=\\{1,2,3,4\\}$. As relações $R_1=\\{(1,1), (2,2), (3,3)\\}$ e $R_2=\\{(1,1), (1,2), (1,3), (1,4)\\}$ podem ser combinadas para se obter:\n",
        "\t\t\n",
        "\n",
        "* $R_1 \\cup R_2 = \\{(1,1), (1,2), (1,3), (1,4), (2,2), (3,3)\\}$.\n",
        "* $R_1 \\cap R_2 = \\{(1,1)\\}$.\n",
        "* $R_1 - R_2 = \\{(2,2), (3,3)\\}$.\n",
        "* $R_2 - R_1 = \\{(1,2), (1,3), (1,4)\\}$.\n",
        "* $R_1\\Delta R_2 = \\{(1,2), (1,3), (1,4), (2,2), (3,3)\\}$."
      ]
    },
    {
      "cell_type": "code",
      "metadata": {
        "id": "mDkjk9YXhlke",
        "colab_type": "code",
        "colab": {}
      },
      "source": [
        "r1 = {(1,1), (2,2), (3,3)}\n",
        "r2 = {(1,1),(1,2),(1,3),(1,4)}\n",
        "\n",
        "#print ('Conjunto R1: ',r1) #imprimir conjunto r1\n",
        "print ('Conjunto R2: ',r2) #imprimir conjunto r2\n",
        "\n",
        "#print( r1.union(r2)) #união\n",
        "#print(r1.intersection(r2)) #interseção\n",
        "#print(r1.difference(r2)) #diferença\n",
        "#print(r2.difference(r1)) #diferença\n",
        "#print (r1.symmetric_difference(r2)) #diferença simétrica\n",
        "\n",
        "r2_inverso = set()\n",
        "\n",
        "for element in r2:\n",
        "  r2_inverso.add(element[::-1])\n",
        "\n",
        "print(r2_inverso)\n",
        "\n",
        "r2_inverso_inverso = set()\n",
        "for element in r2_inverso:\n",
        "  r2_inverso_inverso.add(element[::-1])\n",
        "\n",
        "\n",
        "print(r2_inverso_inverso)\n",
        "\n"
      ],
      "execution_count": null,
      "outputs": []
    },
    {
      "cell_type": "markdown",
      "metadata": {
        "id": "a9RDqsge0XUg",
        "colab_type": "text"
      },
      "source": [
        "Reflexão e Simetria"
      ]
    },
    {
      "cell_type": "code",
      "metadata": {
        "id": "YbK__Y2I0bSh",
        "colab_type": "code",
        "colab": {}
      },
      "source": [
        "r1 = {(1,1), (2,2), (3,3)}\n",
        "r2 = {(1,1),(1,2),(1,3),(1,4)}\n",
        "r3 = {(1,1), (1,2),(2,1), (3,3)}\n",
        "r4= {(1,2),(2,1),(2,3),(3,2)}\n",
        "\n",
        "#r1 é subconjunto de r3, então r3 é reflexivo\n",
        "print(\"É reflexivo? \",r1.issubset(r3))\n",
        "\n",
        "r2_inverso = set()\n",
        "\n",
        "for element in r2:\n",
        "  r2_inverso.add(element[::-1])\n",
        "\n",
        "print(\"R2 é simétrico? \", r2.issubset(r2_inverso))\n",
        "\n",
        "r4_inverso = set()\n",
        "\n",
        "for element in r4:\n",
        "  r4_inverso.add(element[::-1])\n",
        "\n",
        "print(\"R4 é simétrico? \", r4.issubset(r4_inverso))\n"
      ],
      "execution_count": null,
      "outputs": []
    }
  ]
}