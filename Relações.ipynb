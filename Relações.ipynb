{
  "nbformat": 4,
  "nbformat_minor": 0,
  "metadata": {
    "colab": {
      "name": "Relações.ipynb",
      "provenance": [],
      "authorship_tag": "ABX9TyNMnpR5OWYFxygymwWiWGl0",
      "include_colab_link": true
    },
    "kernelspec": {
      "name": "python3",
      "display_name": "Python 3"
    }
  },
  "cells": [
    {
      "cell_type": "markdown",
      "metadata": {
        "id": "view-in-github",
        "colab_type": "text"
      },
      "source": [
        "<a href=\"https://colab.research.google.com/github/diegoguedes/mc_20202/blob/master/Rela%C3%A7%C3%B5es.ipynb\" target=\"_parent\"><img src=\"https://colab.research.google.com/assets/colab-badge.svg\" alt=\"Open In Colab\"/></a>"
      ]
    },
    {
      "cell_type": "markdown",
      "metadata": {
        "id": "07MM8txKi7Co",
        "colab_type": "text"
      },
      "source": [
        "## **Disciplina de Matemática para Computação - Professor Diego Guedes**"
      ]
    },
    {
      "cell_type": "markdown",
      "metadata": {
        "id": "EncwKArxhJvK",
        "colab_type": "text"
      },
      "source": [
        "Sejam $A=\\{1,2,3\\}$ e $B=\\{1,2,3,4\\}$. As relações $R_1=\\{(1,1), (2,2), (3,3)\\}$ e $R_2=\\{(1,1), (1,2), (1,3), (1,4)\\}$ podem ser combinadas para se obter:\n",
        "\t\t\n",
        "\n",
        "* $R_1 \\cup R_2 = \\{(1,1), (1,2), (1,3), (1,4), (2,2), (3,3)\\}$.\n",
        "* $R_1 \\cap R_2 = \\{(1,1)\\}$.\n",
        "* $R_1 - R_2 = \\{(2,2), (3,3)\\}$.\n",
        "* $R_2 - R_1 = \\{(1,2), (1,3), (1,4)\\}$.\n",
        "* $R_1\\Delta R_2 = \\{(1,2), (1,3), (1,4), (2,2), (3,3)\\}$."
      ]
    },
    {
      "cell_type": "code",
      "metadata": {
        "id": "mDkjk9YXhlke",
        "colab_type": "code",
        "colab": {
          "base_uri": "https://localhost:8080/",
          "height": 204
        },
        "outputId": "1925684c-d569-4137-dc9c-ec75a62fae3f"
      },
      "source": [
        "r1 = {(1,1), (2,2), (3,3)}\n",
        "r2 = {(1,1),(1,2),(1,3),(1,4),(2,1), (3,1),(4,1)}\n",
        "r3 = {(1,1), (2,2), (3,3)}\n",
        "\n",
        "print ('Conjunto R1: ',r1) #imprimir conjunto r1\n",
        "print ('Conjunto R2: ',r2) #imprimir conjunto r2\n",
        "\n",
        "print( r1.union(r2)) #união\n",
        "print(r1.intersection(r2)) #interseção\n",
        "print(r1.difference(r2)) #diferença\n",
        "print(r2.difference(r1)) #diferença\n",
        "print (r1.symmetric_difference(r2)) #diferença simétrica\n",
        "\n",
        "\n",
        "print ('Conjunto R2: ',r2) #imprimir conjunto r2\n",
        "# fazendo inverso r2\n",
        "r2_inverso = set()\n",
        "for element in r2:\n",
        "  r2_inverso.add(element[::-1])\n",
        "\n",
        "print(r2_inverso) #r2 inverso\n",
        "\n",
        "\n",
        "\n",
        "print(\"Reflexiva: \",r1.issubset(r3))\n",
        "\n",
        "print(\"Simétrica \", r2_inverso.issubset(r2))\n",
        "\n",
        "\n",
        "\n",
        "\n",
        "\n"
      ],
      "execution_count": null,
      "outputs": [
        {
          "output_type": "stream",
          "text": [
            "Conjunto R1:  {(3, 3), (1, 1), (2, 2)}\n",
            "Conjunto R2:  {(1, 2), (1, 3), (3, 1), (2, 1), (1, 4), (4, 1), (1, 1)}\n",
            "{(1, 2), (1, 3), (3, 3), (3, 1), (2, 1), (1, 4), (2, 2), (4, 1), (1, 1)}\n",
            "{(1, 1)}\n",
            "{(3, 3), (2, 2)}\n",
            "{(1, 2), (1, 3), (3, 1), (1, 4), (2, 1), (4, 1)}\n",
            "{(1, 2), (1, 4), (1, 3), (3, 3), (2, 2), (3, 1), (4, 1), (2, 1)}\n",
            "Conjunto R2:  {(1, 2), (1, 3), (3, 1), (2, 1), (1, 4), (4, 1), (1, 1)}\n",
            "{(1, 2), (1, 3), (3, 1), (2, 1), (1, 4), (4, 1), (1, 1)}\n",
            "Reflexiva:  True\n",
            "Simétrica  True\n"
          ],
          "name": "stdout"
        }
      ]
    }
  ]
}